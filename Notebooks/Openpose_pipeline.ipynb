{
 "cells": [
  {
   "cell_type": "markdown",
   "id": "844d2f55",
   "metadata": {},
   "source": [
    "# Validation of two-dimensional video-based inference of finger\n",
    "\n",
    "## OpenPose example with Python integration and coordinates output\n",
    "This is an example to evaluate the output keypoints for image from the any dataset.\n",
    "\n",
    "## Resources\n",
    "- OpenPose documentation: https://cmu-perceptual-computing-lab.github.io/openpose/html/index.html\n",
    "- Master Thesis that uses the Python API: https://csusm-dspace.calstate.edu/bitstream/handle/10211.3/217145/BhosaleRadhika_Summer2020.pdf?sequence=3"
   ]
  },
  {
   "cell_type": "markdown",
   "id": "284d6402",
   "metadata": {},
   "source": [
    "## Download and installation\n"
   ]
  },
  {
   "cell_type": "code",
   "execution_count": null,
   "id": "ae0fbb76",
   "metadata": {},
   "outputs": [],
   "source": [
    "import sys\n",
    "import cv2\n",
    "import os\n",
    "from sys import platform\n",
    "import argparse\n",
    "import time"
   ]
  },
  {
   "cell_type": "code",
   "execution_count": null,
   "id": "fa169e23",
   "metadata": {},
   "outputs": [],
   "source": [
    "#@title\n",
    "#Install CMake\n",
    "!wget -q https://cmake.org/files/v3.18/cmake-3.18.2-Linux-x86_64.tar.gz"
   ]
  },
  {
   "cell_type": "code",
   "execution_count": null,
   "id": "158e92f2",
   "metadata": {},
   "outputs": [],
   "source": [
    "#@title\n",
    "#Unzip the tar file\n",
    "!tar xfz cmake-3.18.2-Linux-x86_64.tar.gz --strip-components=1 -C /usr/local"
   ]
  },
  {
   "cell_type": "code",
   "execution_count": null,
   "id": "f4c0a2d7",
   "metadata": {},
   "outputs": [],
   "source": [
    "#@title\n",
    "#Clone the openpose github repo\n",
    "git_repo_url = 'https://github.com/CMU-Perceptual-Computing-Lab/openpose.git'\n",
    "!git clone -q --depth 1 $git_repo_url"
   ]
  },
  {
   "cell_type": "code",
   "execution_count": null,
   "id": "fe6388dd",
   "metadata": {},
   "outputs": [],
   "source": [
    "#@title\n",
    "#Commands to fix a directory in caffe\n",
    "!sed -i 's/execute_process(COMMAND git checkout master WORKING_DIRECTORY ${CMAKE_SOURCE_DIR}\\/3rdparty\\/caffe)/execute_process(COMMAND git checkout f019d0dfe86f49d1140961f8c7dec22130c83154 WORKING_DIRECTORY ${CMAKE_SOURCE_DIR}\\/3rdparty\\/caffe)/g' openpose/CMakeLists.txt"
   ]
  },
  {
   "cell_type": "code",
   "execution_count": null,
   "id": "6e1abb1e",
   "metadata": {},
   "outputs": [],
   "source": [
    "#@title\n",
    "#Install system dependencies\n",
    "!apt-get -qq install -y libatlas-base-dev libprotobuf-dev libleveldb-dev libsnappy-dev libhdf5-serial-dev protobuf-compiler libgflags-dev libgoogle-glog-dev liblmdb-dev opencl-headers ocl-icd-opencl-dev libviennacl-dev"
   ]
  },
  {
   "cell_type": "code",
   "execution_count": null,
   "id": "44d1f8a0",
   "metadata": {},
   "outputs": [],
   "source": [
    "#@title\n",
    "#Before this cell, change the CMakeLists.txt file: on line 317 and 798, switch option build Python to ON\n",
    "#Build openpose\n",
    "!cd openpose && rm -rf build || true && mkdir build && cd build && cmake .. && make -j`nproc`"
   ]
  },
  {
   "cell_type": "code",
   "execution_count": null,
   "id": "c9f830a7",
   "metadata": {},
   "outputs": [],
   "source": [
    "#@title\n",
    "#Before this cell, upload the 02_whole_body py file in build/examples/tutorial_api_python\n",
    "#Upload figure to analyze and create new directories\n",
    "!mkdir coordinates-out\n",
    "!mkdir images-out\n",
    "!mkdir images-in "
   ]
  },
  {
   "cell_type": "code",
   "execution_count": null,
   "id": "b60983f1",
   "metadata": {},
   "outputs": [],
   "source": [
    "#@title\n",
    "import os\n",
    "os.chdir(\"/content/openpose/build/examples/tutorial_api_python\")"
   ]
  },
  {
   "cell_type": "markdown",
   "id": "8c459701",
   "metadata": {},
   "source": [
    "## Import image"
   ]
  },
  {
   "cell_type": "code",
   "execution_count": null,
   "id": "5e3ab41a",
   "metadata": {},
   "outputs": [],
   "source": [
    "import matplotlib.pyplot as plt\n",
    "import matplotlib.image as mpimg \n",
    "%matplotlib inline\n",
    "import numpy as np\n",
    "n=\"01\"\n",
    "fig = plt.figure(figsize=(15,15))\n",
    "testim = mpimg.imread(\"../../../../images-in/\"+n+\".jpg\")"
   ]
  },
  {
   "cell_type": "markdown",
   "id": "4d65503c",
   "metadata": {},
   "source": [
    "## Run the model, output coordinates and figure with keypoints"
   ]
  },
  {
   "cell_type": "code",
   "execution_count": null,
   "id": "aab9a4dd",
   "metadata": {},
   "outputs": [],
   "source": [
    "#@title\n",
    "!python3 02_whole_body_from_image.py --hand --image_path \"../../../../images-in/01.jpg\"\n",
    "#testim_out = mpimg.imread(\"hand2_w_points.png\")\n",
    "right_hand_2d = np.loadtxt(\"right_hand_keypoints.txt\")\n",
    "left_hand_2d = np.loadtxt(\"left_hand_keypoints.txt\")\n",
    "np.savetxt(\"../../../../coordinates-out/rh\"+n+\".txt\",right_hand_2d)\n",
    "np.savetxt(\"../../../../coordinates-out/lh\"+n+\".txt\",left_hand_2d)"
   ]
  },
  {
   "cell_type": "code",
   "execution_count": null,
   "id": "fd8e5ab6",
   "metadata": {},
   "outputs": [],
   "source": [
    "fig = plt.figure(figsize=(15,15))\n",
    "plt.scatter(right_hand_2d.T[0],right_hand_2d.T[1])\n",
    "plt.scatter(left_hand_2d.T[0],left_hand_2d.T[1])\n",
    "plt.savefig(\"../../../../images-out/s\"+n+\"o.jpg\")"
   ]
  },
  {
   "cell_type": "markdown",
   "id": "a6010684",
   "metadata": {},
   "source": [
    "## Number the keypoints for reference"
   ]
  },
  {
   "cell_type": "code",
   "execution_count": null,
   "id": "88736b9f",
   "metadata": {},
   "outputs": [],
   "source": [
    "pr = ['1r','2r','3r','4r','5r','6r','7r','8r','9r','10r','11r','12r','13r','14r','15r','16r','17r','18r','19r','20r','21r']\n",
    "pl = ['1l','2l','3l','4l','5l','6l','7l','8l','9l','10l','11l','12l','13l','14l','15l','16l','17l','18l','19l','20l','21l']\n",
    "plt.scatter(right_hand_2d.T[0], right_hand_2d.T[1],c=blue_a)\n",
    "plt.scatter(left_hand_2d.T[0], left_hand_2d.T[1],c=blue_a)\n",
    "\n",
    "for i,s in enumerate(pr):\n",
    "\n",
    "  xr = right_hand_2d.T[0][i]\n",
    "  yr = right_hand_2d.T[1][i]\n",
    "  plt.annotate(s, # this is the text\n",
    "                (xr,yr), # this is the point to label\n",
    "                textcoords=\"offset points\", # how to position the text\n",
    "                xytext=(0,10), # distance from text to points (x,y)\n",
    "                ha='center') # horizontal alignment can be left, right or center\n",
    "\n",
    "for i,s in enumerate(pl):\n",
    "\n",
    "  xl = left_hand_2d.T[0][i]\n",
    "  yl = left_hand_2d.T[1][i]\n",
    "  plt.annotate(s, # this is the text\n",
    "                (xl,yl), # this is the point to label\n",
    "                textcoords=\"offset points\", # how to position the text\n",
    "                xytext=(0,10), # distance from text to points (x,y)\n",
    "                ha='center') # horizontal alignment can be left, right or center"
   ]
  },
  {
   "cell_type": "markdown",
   "id": "caa51015",
   "metadata": {},
   "source": [
    "## Example measurement: thumb abduction (TAB) angle\n",
    "\n",
    "Measurement location based on:\n",
    "Carpinella I, Mazzoleni P, Rabuffetti M, Thorsen R, Ferrarin M. Experimental protocol for the kinematic analysis of the hand: definition and repeatability. Gait & Posture. 2006 Jun 1;23(4):445-54."
   ]
  },
  {
   "cell_type": "code",
   "execution_count": null,
   "id": "c09a9031",
   "metadata": {},
   "outputs": [],
   "source": [
    "#Coordinates to use for measuring TAB angle:\n",
    "for n in [1,2,5]:\n",
    "  print(right_hand_2d[n])"
   ]
  },
  {
   "cell_type": "code",
   "execution_count": null,
   "id": "37aea7f2",
   "metadata": {},
   "outputs": [],
   "source": [
    "lm = ['2r','3r','6r']\n",
    "right_hand_2d_m = [[right_hand_2d[1][0], right_hand_2d[2][0], \n",
    "                    right_hand_2d[5][0]], \n",
    "                   [right_hand_2d[1][1], right_hand_2d[2][1], \n",
    "                     right_hand_2d[5][1]]]\n",
    "plt.scatter(right_hand_2d_m[0], right_hand_2d_m[1],c=blue_a)\n",
    "\n",
    "for i,s in enumerate(lm):\n",
    "\n",
    "  x = right_hand_2d_m[0][i]\n",
    "  y = right_hand_2d_m[1][i]\n",
    "  plt.annotate(s, # this is the text\n",
    "                (x,y), # this is the point to label\n",
    "                textcoords=\"offset points\", # how to position the text\n",
    "                xytext=(0,10), # distance from text to points (x,y)\n",
    "                ha='center') # horizontal alignment can be left, right or center"
   ]
  },
  {
   "cell_type": "code",
   "execution_count": null,
   "id": "157815a0",
   "metadata": {},
   "outputs": [],
   "source": [
    "import math\n",
    "def measure_angle_given_coords(x1y1, x2y2, x3y3):\n",
    "  \"\"\"Function that measures the angle given 3 coordinates\n",
    "    Args:\n",
    "      x1y1 (list): coordinates of the vertex where the angle is measured.\n",
    "      x2y2 (list): coordinates of the second vertex.\n",
    "      x3y3 (list): coordinates of the third vertex.\n",
    "\n",
    "    Returns:\n",
    "      alpha: the angle measured in degrees.\n",
    "  \"\"\"\n",
    "  x1,y1 = x1y1\n",
    "  x2,y2 = x2y2\n",
    "  x3,y3 = x3y3\n",
    "  ab = [x2-x1, y2-y1]\n",
    "  ac = [x3-x1, y3-y1]\n",
    "  dot_product = np.dot(ab,ac)\n",
    "  abs_ab = math.sqrt(ab[0]**2+ab[1]**2)\n",
    "  abs_ac = math.sqrt(ac[0]**2+ac[1]**2)\n",
    "  cos_alpha = dot_product/(abs_ab*abs_ac)\n",
    "  alpha = math.degrees(math.acos(cos_alpha))\n",
    "  return alpha"
   ]
  },
  {
   "cell_type": "code",
   "execution_count": null,
   "id": "9deedcff",
   "metadata": {},
   "outputs": [],
   "source": [
    "#Print angles in output \n",
    "alpha_ml = measure_angle_given_coords(right_hand_2d[1], right_hand_2d[2], right_hand_2d[5])\n",
    "print(alpha_ml)"
   ]
  }
 ],
 "metadata": {
  "kernelspec": {
   "display_name": "Python 3 (ipykernel)",
   "language": "python",
   "name": "python3"
  },
  "language_info": {
   "codemirror_mode": {
    "name": "ipython",
    "version": 3
   },
   "file_extension": ".py",
   "mimetype": "text/x-python",
   "name": "python",
   "nbconvert_exporter": "python",
   "pygments_lexer": "ipython3",
   "version": "3.9.7"
  }
 },
 "nbformat": 4,
 "nbformat_minor": 5
}
