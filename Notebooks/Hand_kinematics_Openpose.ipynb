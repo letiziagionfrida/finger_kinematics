{
 "cells": [
  {
   "cell_type": "markdown",
   "metadata": {
    "id": "X38L6tanrnrB"
   },
   "source": [
    "# Validation of two-dimensional video-based inference of finger\n",
    "\n",
    "## OpenPose video to keypoints\n",
    "Run this notebook to obtain coordinates of the hands for a video input.\n",
    "\n",
    "\n",
    "## Resources\n",
    "- OpenPose documentation: https://cmu-perceptual-computing-lab.github.io/openpose/html/index.html"
   ]
  },
  {
   "cell_type": "code",
   "execution_count": null,
   "metadata": {
    "id": "6wL7Wxd-or-4"
   },
   "outputs": [],
   "source": [
    "import os\n",
    "from os.path import exists, join, basename, splitext\n",
    "import json\n",
    "import numpy as np"
   ]
  },
  {
   "cell_type": "code",
   "execution_count": null,
   "metadata": {
    "id": "FOdkDhb6ga6N"
   },
   "outputs": [],
   "source": [
    "git_repo_url = 'https://github.com/CMU-Perceptual-Computing-Lab/openpose.git'\n",
    "project_name = splitext(basename(git_repo_url))[0]\n",
    "if not exists(project_name):\n",
    "  # see: https://github.com/CMU-Perceptual-Computing-Lab/openpose/issues/949\n",
    "  # install new CMake becaue of CUDA10\n",
    "  !wget -q https://cmake.org/files/v3.13/cmake-3.13.0-Linux-x86_64.tar.gz\n",
    "  !tar xfz cmake-3.13.0-Linux-x86_64.tar.gz --strip-components=1 -C /usr/local\n",
    "  # clone openpose\n",
    "  !git clone -q --depth 1 $git_repo_url\n",
    "  !sed -i 's/execute_process(COMMAND git checkout master WORKING_DIRECTORY ${CMAKE_SOURCE_DIR}\\/3rdparty\\/caffe)/execute_process(COMMAND git checkout f019d0dfe86f49d1140961f8c7dec22130c83154 WORKING_DIRECTORY ${CMAKE_SOURCE_DIR}\\/3rdparty\\/caffe)/g' openpose/CMakeLists.txt\n",
    "  # install system dependencies\n",
    "  !apt-get -qq install -y libatlas-base-dev libprotobuf-dev libleveldb-dev libsnappy-dev libhdf5-serial-dev protobuf-compiler libgflags-dev libgoogle-glog-dev liblmdb-dev opencl-headers ocl-icd-opencl-dev libviennacl-dev\n",
    "  # install python dependencies\n",
    "  !pip install -q youtube-dl\n",
    "  # build openpose\n",
    "  !cd openpose && rm -rf build || true && mkdir build && cd build && cmake .. && make -j`nproc`"
   ]
  },
  {
   "cell_type": "markdown",
   "metadata": {
    "id": "n5L3Z5YVrZ2R"
   },
   "source": [
    "## Detect poses on video\n",
    "Outputs: video with hand overlays in .mp4 format, .zip file of keypoint coordinates."
   ]
  },
  {
   "cell_type": "code",
   "execution_count": null,
   "metadata": {
    "colab": {
     "base_uri": "https://localhost:8080/"
    },
    "executionInfo": {
     "elapsed": 856838,
     "status": "ok",
     "timestamp": 1611319093941,
     "user": {
      "displayName": "Francesca Donadoni",
      "photoUrl": "https://lh3.googleusercontent.com/a-/AOh14GhzfkOk4u6sW9CSF2ddnTuj_j8F74Qx_FQ0_VYB=s64",
      "userId": "02184661127807487848"
     },
     "user_tz": 0
    },
    "id": "hTlizCEMQ_WG",
    "outputId": "7283cb5b-b9cd-41cf-8e06-80bdec5f89ad"
   },
   "outputs": [
    {
     "name": "stdout",
     "output_type": "stream",
     "text": [
      "Starting OpenPose demo...\n",
      "Configuring OpenPose...\n",
      "Starting thread(s)...\n",
      "Auto-detecting all available GPUs... Detected 1 GPU(s), using 1 of them starting at GPU 0.\n",
      "OpenPose demo successfully finished. Total time: 728.475812 seconds.\n",
      "ffmpeg version 3.4.8-0ubuntu0.2 Copyright (c) 2000-2020 the FFmpeg developers\n",
      "  built with gcc 7 (Ubuntu 7.5.0-3ubuntu1~18.04)\n",
      "  configuration: --prefix=/usr --extra-version=0ubuntu0.2 --toolchain=hardened --libdir=/usr/lib/x86_64-linux-gnu --incdir=/usr/include/x86_64-linux-gnu --enable-gpl --disable-stripping --enable-avresample --enable-avisynth --enable-gnutls --enable-ladspa --enable-libass --enable-libbluray --enable-libbs2b --enable-libcaca --enable-libcdio --enable-libflite --enable-libfontconfig --enable-libfreetype --enable-libfribidi --enable-libgme --enable-libgsm --enable-libmp3lame --enable-libmysofa --enable-libopenjpeg --enable-libopenmpt --enable-libopus --enable-libpulse --enable-librubberband --enable-librsvg --enable-libshine --enable-libsnappy --enable-libsoxr --enable-libspeex --enable-libssh --enable-libtheora --enable-libtwolame --enable-libvorbis --enable-libvpx --enable-libwavpack --enable-libwebp --enable-libx265 --enable-libxml2 --enable-libxvid --enable-libzmq --enable-libzvbi --enable-omx --enable-openal --enable-opengl --enable-sdl2 --enable-libdc1394 --enable-libdrm --enable-libiec61883 --enable-chromaprint --enable-frei0r --enable-libopencv --enable-libx264 --enable-shared\n",
      "  libavutil      55. 78.100 / 55. 78.100\n",
      "  libavcodec     57.107.100 / 57.107.100\n",
      "  libavformat    57. 83.100 / 57. 83.100\n",
      "  libavdevice    57. 10.100 / 57. 10.100\n",
      "  libavfilter     6.107.100 /  6.107.100\n",
      "  libavresample   3.  7.  0 /  3.  7.  0\n",
      "  libswscale      4.  8.100 /  4.  8.100\n",
      "  libswresample   2.  9.100 /  2.  9.100\n",
      "  libpostproc    54.  7.100 / 54.  7.100\n",
      "Input #0, avi, from 'openpose_RC_P1.avi':\n",
      "  Duration: 00:04:46.87, start: 0.000000, bitrate: 14146 kb/s\n",
      "    Stream #0:0: Video: mjpeg (MJPG / 0x47504A4D), yuvj420p(pc, bt470bg/unknown/unknown), 640x480 [SAR 1:1 DAR 4:3], 14141 kb/s, 30 fps, 30 tbr, 30 tbn, 30 tbc\n",
      "Stream mapping:\n",
      "  Stream #0:0 -> #0:0 (mjpeg (native) -> h264 (libx264))\n",
      "Press [q] to stop, [?] for help\n",
      "\u001b[1;36m[libx264 @ 0x55afebbf1e00] \u001b[0musing SAR=1/1\n",
      "\u001b[1;36m[libx264 @ 0x55afebbf1e00] \u001b[0musing cpu capabilities: MMX2 SSE2Fast SSSE3 SSE4.2 AVX FMA3 BMI2 AVX2 AVX512\n",
      "\u001b[1;36m[libx264 @ 0x55afebbf1e00] \u001b[0mprofile High, level 3.0\n",
      "\u001b[1;36m[libx264 @ 0x55afebbf1e00] \u001b[0m264 - core 152 r2854 e9a5903 - H.264/MPEG-4 AVC codec - Copyleft 2003-2017 - http://www.videolan.org/x264.html - options: cabac=1 ref=3 deblock=1:0:0 analyse=0x3:0x113 me=hex subme=7 psy=1 psy_rd=1.00:0.00 mixed_ref=1 me_range=16 chroma_me=1 trellis=1 8x8dct=1 cqm=0 deadzone=21,11 fast_pskip=1 chroma_qp_offset=-2 threads=3 lookahead_threads=1 sliced_threads=0 nr=0 decimate=1 interlaced=0 bluray_compat=0 constrained_intra=0 bframes=3 b_pyramid=2 b_adapt=1 b_bias=0 direct=1 weightb=1 open_gop=0 weightp=2 keyint=250 keyint_min=25 scenecut=40 intra_refresh=0 rc_lookahead=40 rc=crf mbtree=1 crf=23.0 qcomp=0.60 qpmin=0 qpmax=69 qpstep=4 ip_ratio=1.40 aq=1:1.00\n",
      "Output #0, mp4, to 'output_RC_P1.mp4':\n",
      "  Metadata:\n",
      "    encoder         : Lavf57.83.100\n",
      "    Stream #0:0: Video: h264 (libx264) (avc1 / 0x31637661), yuvj420p(pc), 640x480 [SAR 1:1 DAR 4:3], q=-1--1, 30 fps, 15360 tbn, 30 tbc\n",
      "    Metadata:\n",
      "      encoder         : Lavc57.107.100 libx264\n",
      "    Side data:\n",
      "      cpb: bitrate max/min/avg: 0/0/0 buffer size: 0 vbv_delay: -1\n",
      "frame= 8606 fps= 69 q=-1.0 Lsize=   16424kB time=00:04:46.76 bitrate= 469.2kbits/s speed= 2.3x    \n",
      "video:16322kB audio:0kB subtitle:0kB other streams:0kB global headers:0kB muxing overhead: 0.623561%\n",
      "\u001b[1;36m[libx264 @ 0x55afebbf1e00] \u001b[0mframe I:35    Avg QP:18.12  size: 32501\n",
      "\u001b[1;36m[libx264 @ 0x55afebbf1e00] \u001b[0mframe P:2171  Avg QP:20.68  size:  5027\n",
      "\u001b[1;36m[libx264 @ 0x55afebbf1e00] \u001b[0mframe B:6400  Avg QP:22.73  size:   728\n",
      "\u001b[1;36m[libx264 @ 0x55afebbf1e00] \u001b[0mconsecutive B-frames:  0.8%  0.0%  0.0% 99.1%\n",
      "\u001b[1;36m[libx264 @ 0x55afebbf1e00] \u001b[0mmb I  I16..4: 13.8% 66.4% 19.8%\n",
      "\u001b[1;36m[libx264 @ 0x55afebbf1e00] \u001b[0mmb P  I16..4:  1.7%  9.9%  0.1%  P16..4: 28.0%  6.3%  7.1%  0.0%  0.0%    skip:46.8%\n",
      "\u001b[1;36m[libx264 @ 0x55afebbf1e00] \u001b[0mmb B  I16..4:  0.4%  1.4%  0.0%  B16..8: 21.7%  1.6%  0.3%  direct: 2.5%  skip:72.2%  L0:54.8% L1:43.5% BI: 1.7%\n",
      "\u001b[1;36m[libx264 @ 0x55afebbf1e00] \u001b[0m8x8 transform intra:80.2% inter:80.6%\n",
      "\u001b[1;36m[libx264 @ 0x55afebbf1e00] \u001b[0mcoded y,uvDC,uvAC intra: 37.4% 35.2% 2.6% inter: 4.6% 10.2% 0.5%\n",
      "\u001b[1;36m[libx264 @ 0x55afebbf1e00] \u001b[0mi16 v,h,dc,p: 36% 39% 19%  6%\n",
      "\u001b[1;36m[libx264 @ 0x55afebbf1e00] \u001b[0mi8 v,h,dc,ddl,ddr,vr,hd,vl,hu: 23% 23% 51%  1%  0%  1%  0%  1%  1%\n",
      "\u001b[1;36m[libx264 @ 0x55afebbf1e00] \u001b[0mi4 v,h,dc,ddl,ddr,vr,hd,vl,hu: 33% 18% 12%  5%  5%  9%  5%  7%  5%\n",
      "\u001b[1;36m[libx264 @ 0x55afebbf1e00] \u001b[0mi8c dc,h,v,p: 54% 21% 24%  2%\n",
      "\u001b[1;36m[libx264 @ 0x55afebbf1e00] \u001b[0mWeighted P-Frames: Y:0.3% UV:0.0%\n",
      "\u001b[1;36m[libx264 @ 0x55afebbf1e00] \u001b[0mref P L0: 46.2%  6.0% 31.3% 16.5%  0.0%\n",
      "\u001b[1;36m[libx264 @ 0x55afebbf1e00] \u001b[0mref B L0: 56.3% 32.8% 10.9%\n",
      "\u001b[1;36m[libx264 @ 0x55afebbf1e00] \u001b[0mref B L1: 82.6% 17.4%\n",
      "\u001b[1;36m[libx264 @ 0x55afebbf1e00] \u001b[0mkb/s:466.09\n"
     ]
    }
   ],
   "source": [
    "# detect poses \n",
    "#!rm openpose.avi\n",
    "!cd openpose && ./build/examples/openpose/openpose.bin --video ../Part1_QTM_R_CENTER.avi --render_pose 0 --hand --hand_render 2 --write_json ./output_RC_P1/ --display 0  --write_video ../openpose_RC_P1.avi\n",
    "# convert the result into MP4\n",
    "!ffmpeg -y -loglevel info -i openpose_RC_P1.avi output_RC_P1.mp4\n",
    "# save json files to zip\n",
    "!zip -r -q keypoints_RC_P1.zip openpose/output_RC_P1"
   ]
  },
  {
   "cell_type": "code",
   "execution_count": null,
   "metadata": {
    "colab": {
     "base_uri": "https://localhost:8080/"
    },
    "executionInfo": {
     "elapsed": 797933,
     "status": "ok",
     "timestamp": 1611320794780,
     "user": {
      "displayName": "Francesca Donadoni",
      "photoUrl": "https://lh3.googleusercontent.com/a-/AOh14GhzfkOk4u6sW9CSF2ddnTuj_j8F74Qx_FQ0_VYB=s64",
      "userId": "02184661127807487848"
     },
     "user_tz": 0
    },
    "id": "RzY_BIrVCxWu",
    "outputId": "11909ce2-1834-4091-84ef-7d2b08e2f1c7"
   },
   "outputs": [
    {
     "name": "stdout",
     "output_type": "stream",
     "text": [
      "Starting OpenPose demo...\n",
      "Configuring OpenPose...\n",
      "Starting thread(s)...\n",
      "Auto-detecting all available GPUs... Detected 1 GPU(s), using 1 of them starting at GPU 0.\n",
      "OpenPose demo successfully finished. Total time: 683.903610 seconds.\n",
      "ffmpeg version 3.4.8-0ubuntu0.2 Copyright (c) 2000-2020 the FFmpeg developers\n",
      "  built with gcc 7 (Ubuntu 7.5.0-3ubuntu1~18.04)\n",
      "  configuration: --prefix=/usr --extra-version=0ubuntu0.2 --toolchain=hardened --libdir=/usr/lib/x86_64-linux-gnu --incdir=/usr/include/x86_64-linux-gnu --enable-gpl --disable-stripping --enable-avresample --enable-avisynth --enable-gnutls --enable-ladspa --enable-libass --enable-libbluray --enable-libbs2b --enable-libcaca --enable-libcdio --enable-libflite --enable-libfontconfig --enable-libfreetype --enable-libfribidi --enable-libgme --enable-libgsm --enable-libmp3lame --enable-libmysofa --enable-libopenjpeg --enable-libopenmpt --enable-libopus --enable-libpulse --enable-librubberband --enable-librsvg --enable-libshine --enable-libsnappy --enable-libsoxr --enable-libspeex --enable-libssh --enable-libtheora --enable-libtwolame --enable-libvorbis --enable-libvpx --enable-libwavpack --enable-libwebp --enable-libx265 --enable-libxml2 --enable-libxvid --enable-libzmq --enable-libzvbi --enable-omx --enable-openal --enable-opengl --enable-sdl2 --enable-libdc1394 --enable-libdrm --enable-libiec61883 --enable-chromaprint --enable-frei0r --enable-libopencv --enable-libx264 --enable-shared\n",
      "  libavutil      55. 78.100 / 55. 78.100\n",
      "  libavcodec     57.107.100 / 57.107.100\n",
      "  libavformat    57. 83.100 / 57. 83.100\n",
      "  libavdevice    57. 10.100 / 57. 10.100\n",
      "  libavfilter     6.107.100 /  6.107.100\n",
      "  libavresample   3.  7.  0 /  3.  7.  0\n",
      "  libswscale      4.  8.100 /  4.  8.100\n",
      "  libswresample   2.  9.100 /  2.  9.100\n",
      "  libpostproc    54.  7.100 / 54.  7.100\n",
      "Input #0, avi, from 'openpose_LC_P1.avi':\n",
      "  Duration: 00:04:30.77, start: 0.000000, bitrate: 14075 kb/s\n",
      "    Stream #0:0: Video: mjpeg (MJPG / 0x47504A4D), yuvj420p(pc, bt470bg/unknown/unknown), 640x480 [SAR 1:1 DAR 4:3], 14071 kb/s, 30 fps, 30 tbr, 30 tbn, 30 tbc\n",
      "Stream mapping:\n",
      "  Stream #0:0 -> #0:0 (mjpeg (native) -> h264 (libx264))\n",
      "Press [q] to stop, [?] for help\n",
      "\u001b[1;36m[libx264 @ 0x5568e9e31e00] \u001b[0musing SAR=1/1\n",
      "\u001b[1;36m[libx264 @ 0x5568e9e31e00] \u001b[0musing cpu capabilities: MMX2 SSE2Fast SSSE3 SSE4.2 AVX FMA3 BMI2 AVX2 AVX512\n",
      "\u001b[1;36m[libx264 @ 0x5568e9e31e00] \u001b[0mprofile High, level 3.0\n",
      "\u001b[1;36m[libx264 @ 0x5568e9e31e00] \u001b[0m264 - core 152 r2854 e9a5903 - H.264/MPEG-4 AVC codec - Copyleft 2003-2017 - http://www.videolan.org/x264.html - options: cabac=1 ref=3 deblock=1:0:0 analyse=0x3:0x113 me=hex subme=7 psy=1 psy_rd=1.00:0.00 mixed_ref=1 me_range=16 chroma_me=1 trellis=1 8x8dct=1 cqm=0 deadzone=21,11 fast_pskip=1 chroma_qp_offset=-2 threads=3 lookahead_threads=1 sliced_threads=0 nr=0 decimate=1 interlaced=0 bluray_compat=0 constrained_intra=0 bframes=3 b_pyramid=2 b_adapt=1 b_bias=0 direct=1 weightb=1 open_gop=0 weightp=2 keyint=250 keyint_min=25 scenecut=40 intra_refresh=0 rc_lookahead=40 rc=crf mbtree=1 crf=23.0 qcomp=0.60 qpmin=0 qpmax=69 qpstep=4 ip_ratio=1.40 aq=1:1.00\n",
      "Output #0, mp4, to 'openpose_LC_P1.mp4':\n",
      "  Metadata:\n",
      "    encoder         : Lavf57.83.100\n",
      "    Stream #0:0: Video: h264 (libx264) (avc1 / 0x31637661), yuvj420p(pc), 640x480 [SAR 1:1 DAR 4:3], q=-1--1, 30 fps, 15360 tbn, 30 tbc\n",
      "    Metadata:\n",
      "      encoder         : Lavc57.107.100 libx264\n",
      "    Side data:\n",
      "      cpb: bitrate max/min/avg: 0/0/0 buffer size: 0 vbv_delay: -1\n",
      "frame= 8123 fps= 73 q=-1.0 Lsize=   16368kB time=00:04:30.66 bitrate= 495.4kbits/s speed=2.43x    \n",
      "video:16272kB audio:0kB subtitle:0kB other streams:0kB global headers:0kB muxing overhead: 0.590774%\n",
      "\u001b[1;36m[libx264 @ 0x5568e9e31e00] \u001b[0mframe I:33    Avg QP:18.12  size: 32192\n",
      "\u001b[1;36m[libx264 @ 0x5568e9e31e00] \u001b[0mframe P:2047  Avg QP:20.67  size:  5302\n",
      "\u001b[1;36m[libx264 @ 0x5568e9e31e00] \u001b[0mframe B:6043  Avg QP:22.48  size:   785\n",
      "\u001b[1;36m[libx264 @ 0x5568e9e31e00] \u001b[0mconsecutive B-frames:  0.8%  0.0%  0.0% 99.1%\n",
      "\u001b[1;36m[libx264 @ 0x5568e9e31e00] \u001b[0mmb I  I16..4: 13.7% 66.4% 19.9%\n",
      "\u001b[1;36m[libx264 @ 0x5568e9e31e00] \u001b[0mmb P  I16..4:  1.9% 10.8%  0.2%  P16..4: 28.6%  6.8%  7.4%  0.0%  0.0%    skip:44.4%\n",
      "\u001b[1;36m[libx264 @ 0x5568e9e31e00] \u001b[0mmb B  I16..4:  0.5%  1.5%  0.0%  B16..8: 22.1%  1.7%  0.3%  direct: 2.9%  skip:71.0%  L0:53.8% L1:44.2% BI: 1.9%\n",
      "\u001b[1;36m[libx264 @ 0x5568e9e31e00] \u001b[0m8x8 transform intra:80.2% inter:80.4%\n",
      "\u001b[1;36m[libx264 @ 0x5568e9e31e00] \u001b[0mcoded y,uvDC,uvAC intra: 37.5% 35.2% 2.5% inter: 4.9% 11.0% 0.6%\n",
      "\u001b[1;36m[libx264 @ 0x5568e9e31e00] \u001b[0mi16 v,h,dc,p: 34% 42% 19%  5%\n",
      "\u001b[1;36m[libx264 @ 0x5568e9e31e00] \u001b[0mi8 v,h,dc,ddl,ddr,vr,hd,vl,hu: 21% 23% 52%  1%  0%  1%  0%  1%  1%\n",
      "\u001b[1;36m[libx264 @ 0x5568e9e31e00] \u001b[0mi4 v,h,dc,ddl,ddr,vr,hd,vl,hu: 35% 17% 13%  5%  5%  9%  4%  7%  5%\n",
      "\u001b[1;36m[libx264 @ 0x5568e9e31e00] \u001b[0mi8c dc,h,v,p: 53% 21% 24%  1%\n",
      "\u001b[1;36m[libx264 @ 0x5568e9e31e00] \u001b[0mWeighted P-Frames: Y:0.4% UV:0.0%\n",
      "\u001b[1;36m[libx264 @ 0x5568e9e31e00] \u001b[0mref P L0: 46.2%  7.2% 31.1% 15.4%  0.0%\n",
      "\u001b[1;36m[libx264 @ 0x5568e9e31e00] \u001b[0mref B L0: 57.4% 32.3% 10.3%\n",
      "\u001b[1;36m[libx264 @ 0x5568e9e31e00] \u001b[0mref B L1: 83.0% 17.0%\n",
      "\u001b[1;36m[libx264 @ 0x5568e9e31e00] \u001b[0mkb/s:492.28\n"
     ]
    }
   ],
   "source": [
    "# detect poses \n",
    "#!rm openpose.avi\n",
    "!cd openpose && ./build/examples/openpose/openpose.bin --video ../Part1_QTM_L_CENTER.avi --render_pose 0 --hand --hand_render 2 --write_json ./output_LC_P1/ --display 0  --write_video ../openpose_LC_P1.avi\n",
    "# convert the result into MP4\n",
    "!ffmpeg -y -loglevel info -i openpose_LC_P1.avi output_LC_P1.mp4\n",
    "# save json files to zip\n",
    "!zip -r -q keypoints_LC_P1.zip openpose/output_LC_P1"
   ]
  },
  {
   "cell_type": "markdown",
   "metadata": {
    "id": "LSNBOitXaBpP"
   },
   "source": [
    "# Reformat keypoint coordinates from Json to Text\n",
    "Output: .zip files containing coordinates in .txt format."
   ]
  },
  {
   "cell_type": "code",
   "execution_count": null,
   "metadata": {
    "id": "gqiF2BnhbStu"
   },
   "outputs": [],
   "source": [
    "!mkdir keypoints_txt\n",
    "!mkdir keypoints_txt/body\n",
    "!mkdir keypoints_txt/right_hand\n",
    "!mkdir keypoints_txt/left_hand\n",
    "root = \"/content/openpose/output_RC_P1/\"\n",
    "file_name_prefix = \"Part1_QTM_R_CENTER_\"\n",
    "n_frames_RC = 8606\n",
    "def reformat_coordinates(root, file_name):\n",
    "    with open(root + file_name+\".json\") as f:\n",
    "        data = json.load(f)\n",
    "    body = data['people'][0]['pose_keypoints_2d']\n",
    "    right_hand = data['people'][0]['hand_right_keypoints_2d']\n",
    "    left_hand = data['people'][0]['hand_left_keypoints_2d']\n",
    "    body_x = body[::3]\n",
    "    body_y = body[1::3]\n",
    "    right_hand_x = right_hand[::3]\n",
    "    right_hand_y = right_hand[1::3]\n",
    "    left_hand_x = left_hand[::3]\n",
    "    left_hand_y = left_hand[1::3]\n",
    "    body_txt = np.array([body_x, body_y]).T.tolist()\n",
    "    right_hand_txt = np.array([right_hand_x, right_hand_y]).T.tolist()\n",
    "    left_hand_txt = np.array([left_hand_x, left_hand_y]).T.tolist()\n",
    "    np.savetxt(\"keypoints_txt/body/\"+\"out_body_\"+file_name+\".txt\", body_txt)\n",
    "    np.savetxt(\"keypoints_txt/right_hand/\"+\"right_hand_\"+file_name+\".txt\", right_hand_txt)\n",
    "    np.savetxt(\"keypoints_txt/left_hand/\"+\"left_hand_\"+file_name+\".txt\", left_hand_txt)\n",
    "for n in range(n_frames_RC):\n",
    "  if n < 10:\n",
    "      file_name = file_name_prefix + \"00000000000\" + str(n) + '_keypoints' \n",
    "  if (n >= 10) & (n < 100):\n",
    "      file_name = file_name_prefix + \"0000000000\" + str(n) + '_keypoints'\n",
    "  if (n >= 100) & (n < 1000):\n",
    "      file_name = file_name_prefix + \"000000000\" + str(n) + '_keypoints'\n",
    "  elif (n >= 1000) & (n < 10000):\n",
    "      file_name = file_name_prefix + \"00000000\" + str(n) + '_keypoints'\n",
    "  reformat_coordinates(root, file_name)\n",
    "!zip -r -q keypoints_RC_P1_txt.zip keypoints_txt"
   ]
  },
  {
   "cell_type": "markdown",
   "metadata": {
    "id": "sIGyqJCYrOLv"
   },
   "source": [
    "# Rename **keypoints_txt** to a different name before the next step to avoid writing to the same folder."
   ]
  },
  {
   "cell_type": "code",
   "execution_count": null,
   "metadata": {
    "id": "cAtrKG9tpa8S"
   },
   "outputs": [],
   "source": [
    "!mkdir keypoints_txt\n",
    "!mkdir keypoints_txt/body\n",
    "!mkdir keypoints_txt/right_hand\n",
    "!mkdir keypoints_txt/left_hand\n",
    "root = \"/content/openpose/output_LC_P1/\"\n",
    "file_name_prefix = \"Part1_QTM_L_CENTER_\"\n",
    "n_frames_LC = 8123\n",
    "\n",
    "for n in range(n_frames_LC):\n",
    "  if n < 10:\n",
    "      file_name = file_name_prefix + \"00000000000\" + str(n) + '_keypoints' \n",
    "  if (n >= 10) & (n < 100):\n",
    "      file_name = file_name_prefix + \"0000000000\" + str(n) + '_keypoints'\n",
    "  if (n >= 100) & (n < 1000):\n",
    "      file_name = file_name_prefix + \"000000000\" + str(n) + '_keypoints'\n",
    "  elif (n >= 1000) & (n < 10000):\n",
    "      file_name = file_name_prefix + \"00000000\" + str(n) + '_keypoints'\n",
    "  reformat_coordinates(root, file_name)\n",
    "!zip -r -q keypoints_LC_P1_txt.zip keypoints_txt"
   ]
  }
 ],
 "metadata": {
  "accelerator": "GPU",
  "colab": {
   "collapsed_sections": [],
   "name": "00_OpenPose_video_just_hands.ipynb",
   "provenance": [
    {
     "file_id": "1dwsQC7iaDX1OMFuJVzjaxo_seBDhqkOj",
     "timestamp": 1600184943589
    },
    {
     "file_id": "1vDnTkbGYH7px0tpu-zmXBo9es1Gi5zt3",
     "timestamp": 1600179396585
    },
    {
     "file_id": "1louYjEdXTKks0WxouBhM64nscICfGDMF",
     "timestamp": 1600176076122
    },
    {
     "file_id": "https://github.com/tugstugi/dl-colab-notebooks/blob/master/notebooks/OpenPose.ipynb",
     "timestamp": 1600175958730
    }
   ]
  },
  "kernelspec": {
   "display_name": "Python 3 (ipykernel)",
   "language": "python",
   "name": "python3"
  },
  "language_info": {
   "codemirror_mode": {
    "name": "ipython",
    "version": 3
   },
   "file_extension": ".py",
   "mimetype": "text/x-python",
   "name": "python",
   "nbconvert_exporter": "python",
   "pygments_lexer": "ipython3",
   "version": "3.9.7"
  }
 },
 "nbformat": 4,
 "nbformat_minor": 1
}
